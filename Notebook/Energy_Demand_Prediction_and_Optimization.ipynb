{
 "cells": [
  {
   "cell_type": "markdown",
   "id": "a7ed438d-5df2-4678-910b-a6b81dba627c",
   "metadata": {},
   "source": [
    "# Goals:\n",
    "- \n",
    "- "
   ]
  },
  {
   "cell_type": "code",
   "execution_count": 3,
   "id": "6b3863fc-6b94-46ea-9f17-6f7d8feed5a1",
   "metadata": {},
   "outputs": [],
   "source": [
    "#Importing Required Libraries\n",
    "#Data manipulation\n",
    "import numpy as np\n",
    "import pandas as pd\n",
    "import matplotlib.pyplot as plt\n",
    "\n",
    "# Model \n",
    "from sklearn import linear_model\n",
    "import requests"
   ]
  },
  {
   "cell_type": "markdown",
   "id": "a3947819-4f2c-42c5-9b46-765a6d31cb8d",
   "metadata": {},
   "source": [
    "## Datasets"
   ]
  },
  {
   "cell_type": "markdown",
   "id": "995dd92a-75a4-420d-a159-d30e4e8f5db1",
   "metadata": {},
   "source": [
    "\n",
    "\n",
    "Our Dataset source: https://www.energidataservice.dk/tso-electricity/ConsumptionPerGridarea\n"
   ]
  },
  {
   "cell_type": "code",
   "execution_count": 4,
   "id": "42edcfed-836d-4ec4-89a9-760a566938e4",
   "metadata": {},
   "outputs": [],
   "source": [
    "\n",
    "# # The API endpoint\n",
    "# url = \"https://api.energidataservice.dk/dataset/ConsumptionPerGridarea/download?start=2022-01-01&end=2024-01-01&limit=0\"\n",
    "# # url = https://api.energidataservice.dk/dataset/ConsumptionPerGridarea?\n",
    "# # params = {\n",
    "# #     'start': '2022-01-01T00:00',\n",
    "# #     'end': '2024-01-01T00:00',\n",
    "# #     'limit': 100000  \n",
    "# # } \n",
    "# # response = requests.get(url, params)\n",
    "\n",
    "# # A GET request to the API\n",
    "# response = requests.get(url)\n",
    "# result = response.json()"
   ]
  },
  {
   "cell_type": "code",
   "execution_count": 5,
   "id": "20cbf8ed-9541-41dc-bb0b-b4157906cb72",
   "metadata": {
    "scrolled": true
   },
   "outputs": [],
   "source": [
    "# df = pd.DataFrame(result)\n",
    "# df"
   ]
  },
  {
   "cell_type": "code",
   "execution_count": 6,
   "id": "883df47c-8775-44ea-8773-55b419ed30aa",
   "metadata": {},
   "outputs": [],
   "source": [
    "# Saving the data frame in CSV format, so we would have our local dataset. \n",
    "# df.to_csv('ConsumptionPerGridarea20241016.csv', index=False)"
   ]
  },
  {
   "cell_type": "markdown",
   "id": "8d0de6e4-e3ed-4f23-83b4-482c45abc616",
   "metadata": {},
   "source": [
    "## Data Exploration"
   ]
  },
  {
   "cell_type": "code",
   "execution_count": 11,
   "id": "30b1c724-a55c-463e-bd27-2284174cca44",
   "metadata": {},
   "outputs": [],
   "source": [
    "df_loc = pd.read_csv('ConsumptionPerGridarea20241016.csv')  "
   ]
  },
  {
   "cell_type": "code",
   "execution_count": 12,
   "id": "15e95c42-065d-4559-91ca-c09f81395026",
   "metadata": {},
   "outputs": [
    {
     "data": {
      "text/html": [
       "<div>\n",
       "<style scoped>\n",
       "    .dataframe tbody tr th:only-of-type {\n",
       "        vertical-align: middle;\n",
       "    }\n",
       "\n",
       "    .dataframe tbody tr th {\n",
       "        vertical-align: top;\n",
       "    }\n",
       "\n",
       "    .dataframe thead th {\n",
       "        text-align: right;\n",
       "    }\n",
       "</style>\n",
       "<table border=\"1\" class=\"dataframe\">\n",
       "  <thead>\n",
       "    <tr style=\"text-align: right;\">\n",
       "      <th></th>\n",
       "      <th>HourUTC</th>\n",
       "      <th>HourDK</th>\n",
       "      <th>GridCompany</th>\n",
       "      <th>ResidualConsumption</th>\n",
       "      <th>FlexSettledConsumption</th>\n",
       "      <th>HourlySettledConsumption</th>\n",
       "    </tr>\n",
       "  </thead>\n",
       "  <tbody>\n",
       "    <tr>\n",
       "      <th>0</th>\n",
       "      <td>2023-12-31T22:00:00</td>\n",
       "      <td>2023-12-31T23:00:00</td>\n",
       "      <td>3</td>\n",
       "      <td>NaN</td>\n",
       "      <td>92941.889</td>\n",
       "      <td>0.000</td>\n",
       "    </tr>\n",
       "    <tr>\n",
       "      <th>1</th>\n",
       "      <td>2023-12-31T22:00:00</td>\n",
       "      <td>2023-12-31T23:00:00</td>\n",
       "      <td>7</td>\n",
       "      <td>NaN</td>\n",
       "      <td>68369.987</td>\n",
       "      <td>0.000</td>\n",
       "    </tr>\n",
       "    <tr>\n",
       "      <th>2</th>\n",
       "      <td>2023-12-31T22:00:00</td>\n",
       "      <td>2023-12-31T23:00:00</td>\n",
       "      <td>16</td>\n",
       "      <td>NaN</td>\n",
       "      <td>461.403</td>\n",
       "      <td>30.360</td>\n",
       "    </tr>\n",
       "    <tr>\n",
       "      <th>3</th>\n",
       "      <td>2023-12-31T22:00:00</td>\n",
       "      <td>2023-12-31T23:00:00</td>\n",
       "      <td>31</td>\n",
       "      <td>NaN</td>\n",
       "      <td>67108.002</td>\n",
       "      <td>89261.926</td>\n",
       "    </tr>\n",
       "    <tr>\n",
       "      <th>4</th>\n",
       "      <td>2023-12-31T22:00:00</td>\n",
       "      <td>2023-12-31T23:00:00</td>\n",
       "      <td>42</td>\n",
       "      <td>NaN</td>\n",
       "      <td>10069.721</td>\n",
       "      <td>8485.240</td>\n",
       "    </tr>\n",
       "  </tbody>\n",
       "</table>\n",
       "</div>"
      ],
      "text/plain": [
       "               HourUTC               HourDK  GridCompany  ResidualConsumption  \\\n",
       "0  2023-12-31T22:00:00  2023-12-31T23:00:00            3                  NaN   \n",
       "1  2023-12-31T22:00:00  2023-12-31T23:00:00            7                  NaN   \n",
       "2  2023-12-31T22:00:00  2023-12-31T23:00:00           16                  NaN   \n",
       "3  2023-12-31T22:00:00  2023-12-31T23:00:00           31                  NaN   \n",
       "4  2023-12-31T22:00:00  2023-12-31T23:00:00           42                  NaN   \n",
       "\n",
       "   FlexSettledConsumption  HourlySettledConsumption  \n",
       "0               92941.889                     0.000  \n",
       "1               68369.987                     0.000  \n",
       "2                 461.403                    30.360  \n",
       "3               67108.002                 89261.926  \n",
       "4               10069.721                  8485.240  "
      ]
     },
     "execution_count": 12,
     "metadata": {},
     "output_type": "execute_result"
    }
   ],
   "source": [
    "df_loc.head()"
   ]
  },
  {
   "cell_type": "code",
   "execution_count": 13,
   "id": "082ccfa5-e86c-4c6f-a41a-2966df66a09c",
   "metadata": {},
   "outputs": [
    {
     "name": "stdout",
     "output_type": "stream",
     "text": [
      "<class 'pandas.core.frame.DataFrame'>\n",
      "RangeIndex: 906528 entries, 0 to 906527\n",
      "Data columns (total 6 columns):\n",
      " #   Column                    Non-Null Count   Dtype  \n",
      "---  ------                    --------------   -----  \n",
      " 0   HourUTC                   906528 non-null  object \n",
      " 1   HourDK                    906528 non-null  object \n",
      " 2   GridCompany               906528 non-null  int64  \n",
      " 3   ResidualConsumption       0 non-null       float64\n",
      " 4   FlexSettledConsumption    906528 non-null  float64\n",
      " 5   HourlySettledConsumption  748848 non-null  float64\n",
      "dtypes: float64(3), int64(1), object(2)\n",
      "memory usage: 41.5+ MB\n",
      "None\n"
     ]
    }
   ],
   "source": [
    "print(df_loc.info())"
   ]
  },
  {
   "cell_type": "code",
   "execution_count": 15,
   "id": "addfe3a3-a00c-447a-93bf-9eafa8f11918",
   "metadata": {},
   "outputs": [],
   "source": [
    "# between two different hours, I was thinking maybe we could just select the HourDK,\n",
    "# since it might make more sense when it comes to day time and night time \n",
    "# the ResidualConsumption can be removed as well\n",
    "df_loc = df_loc.drop(['HourUTC', 'ResidualConsumption'], axis=1)"
   ]
  },
  {
   "cell_type": "code",
   "execution_count": 22,
   "id": "4e0ac679-f9b8-4775-ace2-595489f3cfb8",
   "metadata": {},
   "outputs": [],
   "source": [
    "#change codes to categories\n",
    "df_loc['GridCompany'] = df_loc['GridCompany'].astype(str)"
   ]
  },
  {
   "cell_type": "code",
   "execution_count": 23,
   "id": "6f52761d-9213-4ede-9dbf-74142264f83f",
   "metadata": {},
   "outputs": [
    {
     "data": {
      "text/html": [
       "<div>\n",
       "<style scoped>\n",
       "    .dataframe tbody tr th:only-of-type {\n",
       "        vertical-align: middle;\n",
       "    }\n",
       "\n",
       "    .dataframe tbody tr th {\n",
       "        vertical-align: top;\n",
       "    }\n",
       "\n",
       "    .dataframe thead th {\n",
       "        text-align: right;\n",
       "    }\n",
       "</style>\n",
       "<table border=\"1\" class=\"dataframe\">\n",
       "  <thead>\n",
       "    <tr style=\"text-align: right;\">\n",
       "      <th></th>\n",
       "      <th>HourDK</th>\n",
       "      <th>GridCompany</th>\n",
       "      <th>FlexSettledConsumption</th>\n",
       "      <th>HourlySettledConsumption</th>\n",
       "    </tr>\n",
       "  </thead>\n",
       "  <tbody>\n",
       "    <tr>\n",
       "      <th>0</th>\n",
       "      <td>2023-12-31T23:00:00</td>\n",
       "      <td>3</td>\n",
       "      <td>92941.889</td>\n",
       "      <td>0.000</td>\n",
       "    </tr>\n",
       "    <tr>\n",
       "      <th>1</th>\n",
       "      <td>2023-12-31T23:00:00</td>\n",
       "      <td>7</td>\n",
       "      <td>68369.987</td>\n",
       "      <td>0.000</td>\n",
       "    </tr>\n",
       "    <tr>\n",
       "      <th>2</th>\n",
       "      <td>2023-12-31T23:00:00</td>\n",
       "      <td>16</td>\n",
       "      <td>461.403</td>\n",
       "      <td>30.360</td>\n",
       "    </tr>\n",
       "    <tr>\n",
       "      <th>3</th>\n",
       "      <td>2023-12-31T23:00:00</td>\n",
       "      <td>31</td>\n",
       "      <td>67108.002</td>\n",
       "      <td>89261.926</td>\n",
       "    </tr>\n",
       "    <tr>\n",
       "      <th>4</th>\n",
       "      <td>2023-12-31T23:00:00</td>\n",
       "      <td>42</td>\n",
       "      <td>10069.721</td>\n",
       "      <td>8485.240</td>\n",
       "    </tr>\n",
       "  </tbody>\n",
       "</table>\n",
       "</div>"
      ],
      "text/plain": [
       "                HourDK GridCompany  FlexSettledConsumption  \\\n",
       "0  2023-12-31T23:00:00           3               92941.889   \n",
       "1  2023-12-31T23:00:00           7               68369.987   \n",
       "2  2023-12-31T23:00:00          16                 461.403   \n",
       "3  2023-12-31T23:00:00          31               67108.002   \n",
       "4  2023-12-31T23:00:00          42               10069.721   \n",
       "\n",
       "   HourlySettledConsumption  \n",
       "0                     0.000  \n",
       "1                     0.000  \n",
       "2                    30.360  \n",
       "3                 89261.926  \n",
       "4                  8485.240  "
      ]
     },
     "execution_count": 23,
     "metadata": {},
     "output_type": "execute_result"
    }
   ],
   "source": [
    "df_loc.head()"
   ]
  },
  {
   "cell_type": "code",
   "execution_count": 24,
   "id": "1dfacc54-5120-465a-b4bc-8d0296279b07",
   "metadata": {},
   "outputs": [
    {
     "name": "stdout",
     "output_type": "stream",
     "text": [
      "<class 'pandas.core.frame.DataFrame'>\n",
      "RangeIndex: 906528 entries, 0 to 906527\n",
      "Data columns (total 4 columns):\n",
      " #   Column                    Non-Null Count   Dtype  \n",
      "---  ------                    --------------   -----  \n",
      " 0   HourDK                    906528 non-null  object \n",
      " 1   GridCompany               906528 non-null  object \n",
      " 2   FlexSettledConsumption    906528 non-null  float64\n",
      " 3   HourlySettledConsumption  748848 non-null  float64\n",
      "dtypes: float64(2), object(2)\n",
      "memory usage: 27.7+ MB\n",
      "None\n"
     ]
    }
   ],
   "source": [
    "print(df_loc.info())"
   ]
  },
  {
   "cell_type": "code",
   "execution_count": 25,
   "id": "9eea1861-6439-4166-b52e-3110cda182e4",
   "metadata": {},
   "outputs": [
    {
     "data": {
      "text/plain": [
       "(906528, 4)"
      ]
     },
     "execution_count": 25,
     "metadata": {},
     "output_type": "execute_result"
    }
   ],
   "source": [
    "df_loc.shape"
   ]
  },
  {
   "cell_type": "code",
   "execution_count": 28,
   "id": "034a14ef-26cd-414d-8d14-9a2d9db37d6a",
   "metadata": {},
   "outputs": [
    {
     "data": {
      "text/html": [
       "<div>\n",
       "<style scoped>\n",
       "    .dataframe tbody tr th:only-of-type {\n",
       "        vertical-align: middle;\n",
       "    }\n",
       "\n",
       "    .dataframe tbody tr th {\n",
       "        vertical-align: top;\n",
       "    }\n",
       "\n",
       "    .dataframe thead th {\n",
       "        text-align: right;\n",
       "    }\n",
       "</style>\n",
       "<table border=\"1\" class=\"dataframe\">\n",
       "  <thead>\n",
       "    <tr style=\"text-align: right;\">\n",
       "      <th></th>\n",
       "      <th>FlexSettledConsumption</th>\n",
       "      <th>HourlySettledConsumption</th>\n",
       "    </tr>\n",
       "  </thead>\n",
       "  <tbody>\n",
       "    <tr>\n",
       "      <th>count</th>\n",
       "      <td>906528.000000</td>\n",
       "      <td>748848.000000</td>\n",
       "    </tr>\n",
       "    <tr>\n",
       "      <th>mean</th>\n",
       "      <td>36459.246658</td>\n",
       "      <td>51877.919237</td>\n",
       "    </tr>\n",
       "    <tr>\n",
       "      <th>std</th>\n",
       "      <td>82070.257026</td>\n",
       "      <td>104574.635766</td>\n",
       "    </tr>\n",
       "    <tr>\n",
       "      <th>min</th>\n",
       "      <td>0.000000</td>\n",
       "      <td>0.000000</td>\n",
       "    </tr>\n",
       "    <tr>\n",
       "      <th>25%</th>\n",
       "      <td>1600.000000</td>\n",
       "      <td>2198.707250</td>\n",
       "    </tr>\n",
       "    <tr>\n",
       "      <th>50%</th>\n",
       "      <td>7468.139500</td>\n",
       "      <td>7225.467000</td>\n",
       "    </tr>\n",
       "    <tr>\n",
       "      <th>75%</th>\n",
       "      <td>26874.144500</td>\n",
       "      <td>44113.591000</td>\n",
       "    </tr>\n",
       "    <tr>\n",
       "      <th>max</th>\n",
       "      <td>904216.654000</td>\n",
       "      <td>817042.465000</td>\n",
       "    </tr>\n",
       "  </tbody>\n",
       "</table>\n",
       "</div>"
      ],
      "text/plain": [
       "       FlexSettledConsumption  HourlySettledConsumption\n",
       "count           906528.000000             748848.000000\n",
       "mean             36459.246658              51877.919237\n",
       "std              82070.257026             104574.635766\n",
       "min                  0.000000                  0.000000\n",
       "25%               1600.000000               2198.707250\n",
       "50%               7468.139500               7225.467000\n",
       "75%              26874.144500              44113.591000\n",
       "max             904216.654000             817042.465000"
      ]
     },
     "execution_count": 28,
     "metadata": {},
     "output_type": "execute_result"
    }
   ],
   "source": [
    "df_loc.describe()"
   ]
  },
  {
   "cell_type": "code",
   "execution_count": 27,
   "id": "76d033f0-19a3-4e4d-a06d-f3f422c76f8e",
   "metadata": {},
   "outputs": [],
   "source": [
    "df_loc['GridCompany'] = df_loc['GridCompany'].astype('category')\n"
   ]
  },
  {
   "cell_type": "code",
   "execution_count": null,
   "id": "523b8241-735e-47b4-a95d-8f144e8f185d",
   "metadata": {},
   "outputs": [],
   "source": []
  }
 ],
 "metadata": {
  "kernelspec": {
   "display_name": "Python 3 (ipykernel)",
   "language": "python",
   "name": "python3"
  },
  "language_info": {
   "codemirror_mode": {
    "name": "ipython",
    "version": 3
   },
   "file_extension": ".py",
   "mimetype": "text/x-python",
   "name": "python",
   "nbconvert_exporter": "python",
   "pygments_lexer": "ipython3",
   "version": "3.11.1"
  }
 },
 "nbformat": 4,
 "nbformat_minor": 5
}
